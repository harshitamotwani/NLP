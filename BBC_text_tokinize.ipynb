{
  "nbformat": 4,
  "nbformat_minor": 0,
  "metadata": {
    "colab": {
      "name": "BBC_text_tokinize.ipynb",
      "provenance": [],
      "authorship_tag": "ABX9TyPvmjRhfvtPiKQ9r72zwRI4",
      "include_colab_link": true
    },
    "kernelspec": {
      "name": "python3",
      "display_name": "Python 3"
    }
  },
  "cells": [
    {
      "cell_type": "markdown",
      "metadata": {
        "id": "view-in-github",
        "colab_type": "text"
      },
      "source": [
        "<a href=\"https://colab.research.google.com/github/harshitamotwani/NLP_TF/blob/master/BBC_text_tokinize.ipynb\" target=\"_parent\"><img src=\"https://colab.research.google.com/assets/colab-badge.svg\" alt=\"Open In Colab\"/></a>"
      ]
    },
    {
      "cell_type": "markdown",
      "metadata": {
        "id": "w8gp6oGW3W1g",
        "colab_type": "text"
      },
      "source": [
        "Information about the dataset:\n",
        "http://mlg.ucd.ie/datasets/bbc.html\n",
        "All rights, including copyright, in the content of the original articles are owned by the BBC.\n",
        "\n",
        "Consists of 2225 documents from the BBC news website corresponding to stories in five topical areas from 2004-2005.\n",
        "Class Labels: 5 (business, entertainment, politics, sport, tech)"
      ]
    },
    {
      "cell_type": "code",
      "metadata": {
        "id": "TQ4ArL1nyV_-",
        "colab_type": "code",
        "colab": {
          "base_uri": "https://localhost:8080/",
          "height": 204
        },
        "outputId": "45431fbb-aac4-4a61-bfae-662d2e9aaa84"
      },
      "source": [
        "!wget --no-check-certificate \\\n",
        "    https://storage.googleapis.com/laurencemoroney-blog.appspot.com/bbc-text.csv \\\n",
        "    -O /tmp/bbc-text.csv"
      ],
      "execution_count": 1,
      "outputs": [
        {
          "output_type": "stream",
          "text": [
            "--2020-06-21 16:50:14--  https://storage.googleapis.com/laurencemoroney-blog.appspot.com/bbc-text.csv\n",
            "Resolving storage.googleapis.com (storage.googleapis.com)... 108.177.126.128, 2a00:1450:4013:c08::80\n",
            "Connecting to storage.googleapis.com (storage.googleapis.com)|108.177.126.128|:443... connected.\n",
            "HTTP request sent, awaiting response... 200 OK\n",
            "Length: 5057493 (4.8M) [application/octet-stream]\n",
            "Saving to: ‘/tmp/bbc-text.csv’\n",
            "\n",
            "\r/tmp/bbc-text.csv     0%[                    ]       0  --.-KB/s               \r/tmp/bbc-text.csv   100%[===================>]   4.82M  --.-KB/s    in 0.05s   \n",
            "\n",
            "2020-06-21 16:50:14 (104 MB/s) - ‘/tmp/bbc-text.csv’ saved [5057493/5057493]\n",
            "\n"
          ],
          "name": "stdout"
        }
      ]
    },
    {
      "cell_type": "code",
      "metadata": {
        "id": "bKNEefHxyjcx",
        "colab_type": "code",
        "colab": {}
      },
      "source": [
        "import csv\n",
        "import tensorflow as tf\n",
        "from tensorflow.keras.preprocessing.text import Tokenizer\n",
        "from tensorflow.keras.preprocessing.sequence import pad_sequences"
      ],
      "execution_count": 19,
      "outputs": []
    },
    {
      "cell_type": "code",
      "metadata": {
        "id": "I8M2RANB0gM-",
        "colab_type": "code",
        "colab": {}
      },
      "source": [
        "vocab_size = 1000\n",
        "embedding_dim = 16\n",
        "max_length = 120\n",
        "trunc_type='post'\n",
        "padding_type='post'\n",
        "oov_tok = \"<OOV>\"\n",
        "training_portion = .8"
      ],
      "execution_count": 8,
      "outputs": []
    },
    {
      "cell_type": "code",
      "metadata": {
        "id": "JOLqgvIzyozy",
        "colab_type": "code",
        "colab": {}
      },
      "source": [
        "#Stopwords list from https://github.com/Yoast/YoastSEO.js/blob/develop/src/config/stopwords.js\n",
        "stopwords = [ \"a\", \"about\", \"above\", \"after\", \"again\", \"against\", \"all\", \"am\", \"an\", \"and\", \"any\", \"are\", \"as\", \"at\", \"be\", \"because\", \"been\", \"before\", \"being\", \"below\", \"between\", \"both\", \"but\", \"by\", \"could\", \"did\", \"do\", \"does\", \"doing\", \"down\", \"during\", \"each\", \"few\", \"for\", \"from\", \"further\", \"had\", \"has\", \"have\", \"having\", \"he\", \"he'd\", \"he'll\", \"he's\", \"her\", \"here\", \"here's\", \"hers\", \"herself\", \"him\", \"himself\", \"his\", \"how\", \"how's\", \"i\", \"i'd\", \"i'll\", \"i'm\", \"i've\", \"if\", \"in\", \"into\", \"is\", \"it\", \"it's\", \"its\", \"itself\", \"let's\", \"me\", \"more\", \"most\", \"my\", \"myself\", \"nor\", \"of\", \"on\", \"once\", \"only\", \"or\", \"other\", \"ought\", \"our\", \"ours\", \"ourselves\", \"out\", \"over\", \"own\", \"same\", \"she\", \"she'd\", \"she'll\", \"she's\", \"should\", \"so\", \"some\", \"such\", \"than\", \"that\", \"that's\", \"the\", \"their\", \"theirs\", \"them\", \"themselves\", \"then\", \"there\", \"there's\", \"these\", \"they\", \"they'd\", \"they'll\", \"they're\", \"they've\", \"this\", \"those\", \"through\", \"to\", \"too\", \"under\", \"until\", \"up\", \"very\", \"was\", \"we\", \"we'd\", \"we'll\", \"we're\", \"we've\", \"were\", \"what\", \"what's\", \"when\", \"when's\", \"where\", \"where's\", \"which\", \"while\", \"who\", \"who's\", \"whom\", \"why\", \"why's\", \"with\", \"would\", \"you\", \"you'd\", \"you'll\", \"you're\", \"you've\", \"your\", \"yours\", \"yourself\", \"yourselves\" ]\n"
      ],
      "execution_count": 3,
      "outputs": []
    },
    {
      "cell_type": "code",
      "metadata": {
        "id": "FdJAwo6Zy2KB",
        "colab_type": "code",
        "colab": {
          "base_uri": "https://localhost:8080/",
          "height": 88
        },
        "outputId": "8018807d-9db5-409c-a87f-e7bf88176265"
      },
      "source": [
        "sentences = []\n",
        "labels = []\n",
        "with open(\"/tmp/bbc-text.csv\", 'r') as csvfile:\n",
        "    reader = csv.reader(csvfile, delimiter=',')\n",
        "    next(reader)\n",
        "    for row in reader:\n",
        "        labels.append(row[0])\n",
        "        sentence = row[1]\n",
        "        for word in stopwords:\n",
        "            token = \" \" + word + \" \" \n",
        "            sentence = sentence.replace(token, \" \")\n",
        "            sentence = sentence.replace(\"  \", \" \")\n",
        "        sentences.append(sentence)\n",
        "\n",
        "\n",
        "print(len(sentences))\n",
        "print(sentences[0])"
      ],
      "execution_count": 23,
      "outputs": [
        {
          "output_type": "stream",
          "text": [
            "2225\n",
            "tv future hands viewers home theatre systems plasma high-definition tvs digital video recorders moving living room way people watch tv will radically different five years time. according expert panel gathered annual consumer electronics show las vegas discuss new technologies will impact one favourite pastimes. us leading trend programmes content will delivered viewers via home networks cable satellite telecoms companies broadband service providers front rooms portable devices. one talked-about technologies ces digital personal video recorders (dvr pvr). set-top boxes like us s tivo uk s sky+ system allow people record store play pause forward wind tv programmes want. essentially technology allows much personalised tv. also built-in high-definition tv sets big business japan us slower take off europe lack high-definition programming. not can people forward wind adverts can also forget abiding network channel schedules putting together a-la-carte entertainment. us networks cable satellite companies worried means terms advertising revenues well brand identity viewer loyalty channels. although us leads technology moment also concern raised europe particularly growing uptake services like sky+. happens today will see nine months years time uk adam hume bbc broadcast s futurologist told bbc news website. likes bbc no issues lost advertising revenue yet. pressing issue moment commercial uk broadcasters brand loyalty important everyone. will talking content brands rather network brands said tim hanlon brand communications firm starcom mediavest. reality broadband connections anybody can producer content. added: challenge now hard promote programme much choice. means said stacey jolna senior vice president tv guide tv group way people find content want watch simplified tv viewers. means networks us terms channels take leaf google s book search engine future instead scheduler help people find want watch. kind channel model might work younger ipod generation used taking control gadgets play them. might not suit everyone panel recognised. older generations comfortable familiar schedules channel brands know getting. perhaps not want much choice put hands mr hanlon suggested. end kids just diapers pushing buttons already - everything possible available said mr hanlon. ultimately consumer will tell market want. 50 000 new gadgets technologies showcased ces many enhancing tv-watching experience. high-definition tv sets everywhere many new models lcd (liquid crystal display) tvs launched dvr capability built instead external boxes. one example launched show humax s 26-inch lcd tv 80-hour tivo dvr dvd recorder. one us s biggest satellite tv companies directtv even launched branded dvr show 100-hours recording capability instant replay search function. set can pause rewind tv 90 hours. microsoft chief bill gates announced pre-show keynote speech partnership tivo called tivotogo means people can play recorded programmes windows pcs mobile devices. reflect increasing trend freeing multimedia people can watch want want.\n",
            "['tech', 'business', 'sport', 'sport']\n"
          ],
          "name": "stdout"
        }
      ]
    },
    {
      "cell_type": "code",
      "metadata": {
        "id": "E9BXYBW30oWz",
        "colab_type": "code",
        "colab": {
          "base_uri": "https://localhost:8080/",
          "height": 102
        },
        "outputId": "e10a0916-e60a-4a82-e617-de2884130eb3"
      },
      "source": [
        "train_size = int(len(sentences) * training_portion)\n",
        "\n",
        "train_sentences = sentences[:train_size]\n",
        "train_labels = labels[:train_size]\n",
        "\n",
        "validation_sentences = sentences[train_size:]\n",
        "validation_labels = labels[train_size:]\n",
        "\n",
        "print(train_size)\n",
        "print(len(train_sentences))\n",
        "print(len(train_labels))\n",
        "print(len(validation_sentences))\n",
        "print(len(validation_labels))"
      ],
      "execution_count": 9,
      "outputs": [
        {
          "output_type": "stream",
          "text": [
            "1780\n",
            "1780\n",
            "1780\n",
            "445\n",
            "445\n"
          ],
          "name": "stdout"
        }
      ]
    },
    {
      "cell_type": "code",
      "metadata": {
        "id": "RuNVi3O-01DL",
        "colab_type": "code",
        "colab": {
          "base_uri": "https://localhost:8080/",
          "height": 51
        },
        "outputId": "66617eee-559e-43d2-e5e7-3b248cfca2a6"
      },
      "source": [
        "tokenizer = Tokenizer(num_words = vocab_size, oov_token=oov_tok)\n",
        "tokenizer.fit_on_texts(train_sentences)\n",
        "word_index = tokenizer.word_index\n",
        "\n",
        "train_sequences = tokenizer.texts_to_sequences(train_sentences)\n",
        "train_padded = pad_sequences(train_sequences, padding=padding_type, maxlen=max_length)\n",
        "\n",
        "validation_sequences = tokenizer.texts_to_sequences(validation_sentences)\n",
        "validation_padded = pad_sequences(validation_sequences, padding=padding_type, maxlen=max_length)\n",
        "\n",
        "print(len(validation_sequences))\n",
        "print(validation_padded.shape)\n"
      ],
      "execution_count": 11,
      "outputs": [
        {
          "output_type": "stream",
          "text": [
            "445\n",
            "(445, 120)\n"
          ],
          "name": "stdout"
        }
      ]
    },
    {
      "cell_type": "code",
      "metadata": {
        "id": "mndzHeny1Vkg",
        "colab_type": "code",
        "colab": {}
      },
      "source": [
        "import numpy as np\n",
        "label_tokenizer = Tokenizer()\n",
        "label_tokenizer.fit_on_texts(labels)\n",
        "\n",
        "training_label_seq = np.array(label_tokenizer.texts_to_sequences(train_labels))\n",
        "validation_label_seq = np.array(label_tokenizer.texts_to_sequences(validation_labels))"
      ],
      "execution_count": 29,
      "outputs": []
    },
    {
      "cell_type": "code",
      "metadata": {
        "id": "6L8WP-KG2sdu",
        "colab_type": "code",
        "colab": {
          "base_uri": "https://localhost:8080/",
          "height": 289
        },
        "outputId": "fd0cdafb-1674-4c1f-b775-199d41308282"
      },
      "source": [
        "model = tf.keras.Sequential([\n",
        "    tf.keras.layers.Embedding(vocab_size, embedding_dim, input_length=max_length),\n",
        "    tf.keras.layers.GlobalAveragePooling1D(),\n",
        "    tf.keras.layers.Dense(24, activation='relu'),\n",
        "    tf.keras.layers.Dense(6, activation='softmax')\n",
        "])\n",
        "model.compile(loss='sparse_categorical_crossentropy',optimizer='adam',metrics=['accuracy'])\n",
        "model.summary()"
      ],
      "execution_count": 32,
      "outputs": [
        {
          "output_type": "stream",
          "text": [
            "Model: \"sequential_4\"\n",
            "_________________________________________________________________\n",
            "Layer (type)                 Output Shape              Param #   \n",
            "=================================================================\n",
            "embedding_4 (Embedding)      (None, 120, 16)           16000     \n",
            "_________________________________________________________________\n",
            "global_average_pooling1d_4 ( (None, 16)                0         \n",
            "_________________________________________________________________\n",
            "dense_8 (Dense)              (None, 24)                408       \n",
            "_________________________________________________________________\n",
            "dense_9 (Dense)              (None, 6)                 150       \n",
            "=================================================================\n",
            "Total params: 16,558\n",
            "Trainable params: 16,558\n",
            "Non-trainable params: 0\n",
            "_________________________________________________________________\n"
          ],
          "name": "stdout"
        }
      ]
    },
    {
      "cell_type": "code",
      "metadata": {
        "id": "iC4olrwb2sXY",
        "colab_type": "code",
        "colab": {
          "base_uri": "https://localhost:8080/",
          "height": 1000
        },
        "outputId": "c27ed54d-efcc-4c65-bc2a-7827d8697f33"
      },
      "source": [
        "num_epochs = 30\n",
        "history = model.fit(train_padded, training_label_seq, epochs=num_epochs, validation_data=(validation_padded, validation_label_seq), verbose=2)"
      ],
      "execution_count": 33,
      "outputs": [
        {
          "output_type": "stream",
          "text": [
            "Epoch 1/30\n",
            "56/56 - 0s - loss: 1.7734 - accuracy: 0.2719 - val_loss: 1.7487 - val_accuracy: 0.2427\n",
            "Epoch 2/30\n",
            "56/56 - 0s - loss: 1.7152 - accuracy: 0.3809 - val_loss: 1.6763 - val_accuracy: 0.4315\n",
            "Epoch 3/30\n",
            "56/56 - 0s - loss: 1.6221 - accuracy: 0.4478 - val_loss: 1.5695 - val_accuracy: 0.4562\n",
            "Epoch 4/30\n",
            "56/56 - 0s - loss: 1.4910 - accuracy: 0.4848 - val_loss: 1.4234 - val_accuracy: 0.4831\n",
            "Epoch 5/30\n",
            "56/56 - 0s - loss: 1.3036 - accuracy: 0.5938 - val_loss: 1.2199 - val_accuracy: 0.6135\n",
            "Epoch 6/30\n",
            "56/56 - 0s - loss: 1.0682 - accuracy: 0.7640 - val_loss: 0.9953 - val_accuracy: 0.7798\n",
            "Epoch 7/30\n",
            "56/56 - 0s - loss: 0.8378 - accuracy: 0.8657 - val_loss: 0.7925 - val_accuracy: 0.8719\n",
            "Epoch 8/30\n",
            "56/56 - 0s - loss: 0.6445 - accuracy: 0.9202 - val_loss: 0.6354 - val_accuracy: 0.8921\n",
            "Epoch 9/30\n",
            "56/56 - 0s - loss: 0.5018 - accuracy: 0.9348 - val_loss: 0.5210 - val_accuracy: 0.9124\n",
            "Epoch 10/30\n",
            "56/56 - 0s - loss: 0.3969 - accuracy: 0.9478 - val_loss: 0.4345 - val_accuracy: 0.9191\n",
            "Epoch 11/30\n",
            "56/56 - 0s - loss: 0.3166 - accuracy: 0.9590 - val_loss: 0.3711 - val_accuracy: 0.9258\n",
            "Epoch 12/30\n",
            "56/56 - 0s - loss: 0.2599 - accuracy: 0.9663 - val_loss: 0.3247 - val_accuracy: 0.9326\n",
            "Epoch 13/30\n",
            "56/56 - 0s - loss: 0.2175 - accuracy: 0.9708 - val_loss: 0.2903 - val_accuracy: 0.9303\n",
            "Epoch 14/30\n",
            "56/56 - 0s - loss: 0.1856 - accuracy: 0.9742 - val_loss: 0.2645 - val_accuracy: 0.9303\n",
            "Epoch 15/30\n",
            "56/56 - 0s - loss: 0.1609 - accuracy: 0.9781 - val_loss: 0.2468 - val_accuracy: 0.9326\n",
            "Epoch 16/30\n",
            "56/56 - 0s - loss: 0.1406 - accuracy: 0.9809 - val_loss: 0.2326 - val_accuracy: 0.9371\n",
            "Epoch 17/30\n",
            "56/56 - 0s - loss: 0.1235 - accuracy: 0.9843 - val_loss: 0.2208 - val_accuracy: 0.9393\n",
            "Epoch 18/30\n",
            "56/56 - 0s - loss: 0.1110 - accuracy: 0.9826 - val_loss: 0.2114 - val_accuracy: 0.9371\n",
            "Epoch 19/30\n",
            "56/56 - 0s - loss: 0.0989 - accuracy: 0.9848 - val_loss: 0.2044 - val_accuracy: 0.9416\n",
            "Epoch 20/30\n",
            "56/56 - 0s - loss: 0.0880 - accuracy: 0.9848 - val_loss: 0.1995 - val_accuracy: 0.9393\n",
            "Epoch 21/30\n",
            "56/56 - 0s - loss: 0.0789 - accuracy: 0.9899 - val_loss: 0.1920 - val_accuracy: 0.9393\n",
            "Epoch 22/30\n",
            "56/56 - 0s - loss: 0.0710 - accuracy: 0.9933 - val_loss: 0.1879 - val_accuracy: 0.9393\n",
            "Epoch 23/30\n",
            "56/56 - 0s - loss: 0.0644 - accuracy: 0.9944 - val_loss: 0.1842 - val_accuracy: 0.9416\n",
            "Epoch 24/30\n",
            "56/56 - 0s - loss: 0.0574 - accuracy: 0.9966 - val_loss: 0.1814 - val_accuracy: 0.9438\n",
            "Epoch 25/30\n",
            "56/56 - 0s - loss: 0.0528 - accuracy: 0.9955 - val_loss: 0.1787 - val_accuracy: 0.9416\n",
            "Epoch 26/30\n",
            "56/56 - 0s - loss: 0.0476 - accuracy: 0.9972 - val_loss: 0.1750 - val_accuracy: 0.9438\n",
            "Epoch 27/30\n",
            "56/56 - 0s - loss: 0.0430 - accuracy: 0.9983 - val_loss: 0.1736 - val_accuracy: 0.9416\n",
            "Epoch 28/30\n",
            "56/56 - 0s - loss: 0.0391 - accuracy: 0.9983 - val_loss: 0.1725 - val_accuracy: 0.9416\n",
            "Epoch 29/30\n",
            "56/56 - 0s - loss: 0.0357 - accuracy: 0.9983 - val_loss: 0.1701 - val_accuracy: 0.9461\n",
            "Epoch 30/30\n",
            "56/56 - 0s - loss: 0.0324 - accuracy: 0.9989 - val_loss: 0.1697 - val_accuracy: 0.9438\n"
          ],
          "name": "stdout"
        }
      ]
    },
    {
      "cell_type": "code",
      "metadata": {
        "id": "n0XR9HUR2-oo",
        "colab_type": "code",
        "colab": {
          "base_uri": "https://localhost:8080/",
          "height": 541
        },
        "outputId": "cb9cd66e-dab0-43d7-f22b-a44a3c859983"
      },
      "source": [
        "import matplotlib.pyplot as plt\n",
        "\n",
        "\n",
        "def plot_graphs(history, string):\n",
        "  plt.plot(history.history[string])\n",
        "  plt.plot(history.history['val_'+string])\n",
        "  plt.xlabel(\"Epochs\")\n",
        "  plt.ylabel(string)\n",
        "  plt.legend([string, 'val_'+string])\n",
        "  plt.show()\n",
        "  \n",
        "plot_graphs(history, \"accuracy\")\n",
        "plot_graphs(history, \"loss\")"
      ],
      "execution_count": 22,
      "outputs": [
        {
          "output_type": "display_data",
          "data": {
            "image/png": "[encoded data removed]",
            "text/plain": [
              "<Figure size 432x288 with 1 Axes>"
            ]
          },
          "metadata": {
            "tags": [],
            "needs_background": "light"
          }
        },
        {
          "output_type": "display_data",
          "data": {
            "image/png": "[encoded data removed]",
            "text/plain": [
              "<Figure size 432x288 with 1 Axes>"
            ]
          },
          "metadata": {
            "tags": [],
            "needs_background": "light"
          }
        }
      ]
    }
  ]
}